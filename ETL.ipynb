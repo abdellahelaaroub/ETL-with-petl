{
 "cells": [
  {
   "cell_type": "code",
   "execution_count": 50,
   "id": "a4a576db",
   "metadata": {},
   "outputs": [
    {
     "data": {
      "text/plain": [
       "+-----------------+-------------------+-----------------+------------------+\n",
       "| Coding_as_Hobby | Immigration_Plans | English_Barrier | Age              |\n",
       "+=================+===================+=================+==================+\n",
       "| 'Yes'           | 'Yes'             | 'No'            | '20 to 24 years' |\n",
       "+-----------------+-------------------+-----------------+------------------+\n",
       "| 'Yes'           | 'Yes'             | 'Yes'           | '20 to 24 years' |\n",
       "+-----------------+-------------------+-----------------+------------------+\n",
       "| 'Yes'           | 'No'              | 'No'            | '20 to 24 years' |\n",
       "+-----------------+-------------------+-----------------+------------------+\n",
       "| 'Yes'           | 'Yes'             | 'No'            | '20 to 24 years' |\n",
       "+-----------------+-------------------+-----------------+------------------+\n",
       "| 'Yes'           | 'No'              | 'No'            | '20 to 24 years' |\n",
       "+-----------------+-------------------+-----------------+------------------+\n",
       "..."
      ]
     },
     "execution_count": 50,
     "metadata": {},
     "output_type": "execute_result"
    }
   ],
   "source": [
    "import petl as etl\n",
    "import random\n",
    "\n",
    "table = etl.fromcsv('results_preprocessed.csv')\n",
    "\n",
    "# Select specific columns\n",
    "selected_table = etl.cut(table, 'Coding_as_Hobby', 'Immigration_Plans', 'English_Barrier', 'Age')\n",
    "etl.look(selected_table)"
   ]
  },
  {
   "cell_type": "code",
   "execution_count": 51,
   "id": "e2285dd3",
   "metadata": {},
   "outputs": [
    {
     "data": {
      "text/plain": [
       "+-----------------+-------------------+-----------------+------------------+---------------+\n",
       "| Coding_as_Hobby | Immigration_Plans | English_Barrier | Age              | Synthetic_Age |\n",
       "+=================+===================+=================+==================+===============+\n",
       "| True            | True              | False           | '20 to 24 years' |            23 |\n",
       "+-----------------+-------------------+-----------------+------------------+---------------+\n",
       "| True            | True              | True            | '20 to 24 years' |            22 |\n",
       "+-----------------+-------------------+-----------------+------------------+---------------+\n",
       "| True            | False             | False           | '20 to 24 years' |            22 |\n",
       "+-----------------+-------------------+-----------------+------------------+---------------+\n",
       "| True            | True              | False           | '20 to 24 years' |            23 |\n",
       "+-----------------+-------------------+-----------------+------------------+---------------+\n",
       "| True            | False             | False           | '20 to 24 years' |            21 |\n",
       "+-----------------+-------------------+-----------------+------------------+---------------+\n",
       "..."
      ]
     },
     "execution_count": 51,
     "metadata": {},
     "output_type": "execute_result"
    }
   ],
   "source": [
    "# conversion function to the relevant columns\n",
    "columns_to_convert = ['Coding_as_Hobby', 'Immigration_Plans', 'English_Barrier']\n",
    "converted_table = etl.convert(selected_table, columns_to_convert, lambda columns_to_convert: columns_to_convert == 'Yes')\n",
    "\n",
    "# map age ranges to synthetic ages\n",
    "def map_age_range_to_synthetic_age(age_range):\n",
    "    if '20 to 24' in age_range:\n",
    "        return random.randint(20, 24)\n",
    "    elif '25 to 29' in age_range:\n",
    "        return random.randint(25, 29)\n",
    "    elif '30 to 34' in age_range:\n",
    "        return random.randint(30, 34)\n",
    "    elif '15 to 19' in age_range:\n",
    "        return random.randint(15, 19)\n",
    "    elif '35 to 39' in age_range:\n",
    "        return random.randint(35, 39)\n",
    "    elif '40 years and older' in age_range:\n",
    "        return random.randint(40, 70)  \n",
    "    elif 'Younger than 15' in age_range:\n",
    "        return random.randint(10, 14)  \n",
    "    else:\n",
    "        return None  \n",
    "\n",
    "synthetic_ages = []\n",
    "\n",
    "for age_range in converted_table['Age']:\n",
    "    synthetic_ages.append(map_age_range_to_synthetic_age(age_range))\n",
    "\n",
    "\n",
    "converted_table = etl.addcolumn(converted_table, 'Synthetic_Age', synthetic_ages)\n",
    "\n",
    "etl.tocsv(converted_table, 'ETL_data.csv')\n",
    "\n",
    "etl.look(converted_table)"
   ]
  },
  {
   "cell_type": "code",
   "execution_count": 47,
   "id": "3715a67d",
   "metadata": {},
   "outputs": [
    {
     "data": {
      "image/png": "[encoded data removed]",
      "text/plain": [
       "<Figure size 864x432 with 1 Axes>"
      ]
     },
     "metadata": {
      "needs_background": "light"
     },
     "output_type": "display_data"
    }
   ],
   "source": [
    "import matplotlib.pyplot as plt\n",
    "\n",
    "value_counts = etl.valuecounts(converted_table, 'Synthetic_Age')\n",
    "\n",
    "# Extract ages and counts from value counts\n",
    "ages = [str(item[0]) for item in value_counts]\n",
    "counts = [item[1] for item in value_counts]\n",
    "\n",
    "ages, counts = ages[1:], counts[1:]\n",
    "\n",
    "# Create a bar chart\n",
    "plt.figure(figsize=(12, 6))\n",
    "plt.bar(ages, counts)\n",
    "plt.xlabel('Age')\n",
    "plt.ylabel('Count')\n",
    "plt.title('Age Distribution')\n",
    "plt.xticks(rotation=90) \n",
    "plt.tight_layout()\n",
    "plt.show()"
   ]
  },
  {
   "cell_type": "code",
   "execution_count": null,
   "id": "b38cb346",
   "metadata": {},
   "outputs": [],
   "source": [
    "!pip install pandas-gbq"
   ]
  },
  {
   "cell_type": "code",
   "execution_count": 33,
   "id": "592969da",
   "metadata": {},
   "outputs": [
    {
     "name": "stderr",
     "output_type": "stream",
     "text": [
      "100%|██████████████████████████████████████████████████████████████████████████████████| 1/1 [00:00<00:00, 2692.11it/s]\n"
     ]
    }
   ],
   "source": [
    "import pandas as pd\n",
    "from pandas_gbq import to_gbq\n",
    "import os\n",
    "os.environ[\"GOOGLE_APPLICATION_CREDENTIALS\"] = \"your-credentials.json file\"\n",
    "\n",
    "df = pd.read_csv('ETL_data.csv')\n",
    "\n",
    "# auth\n",
    "project_id = 'your project id'\n",
    "dataset_id = 'mydata'\n",
    "table_id = 'ETL'\n",
    "\n",
    "destination_table = f'{project_id}.{dataset_id}.{table_id}'\n",
    "\n",
    "# Upload the data from the DataFrame to the specified BigQuery table\n",
    "to_gbq(df, destination_table, if_exists='replace')\n"
   ]
  }
 ],
 "metadata": {
  "kernelspec": {
   "display_name": "Python 3",
   "language": "python",
   "name": "python3"
  },
  "language_info": {
   "codemirror_mode": {
    "name": "ipython",
    "version": 3
   },
   "file_extension": ".py",
   "mimetype": "text/x-python",
   "name": "python",
   "nbconvert_exporter": "python",
   "pygments_lexer": "ipython3",
   "version": "3.8.5"
  }
 },
 "nbformat": 4,
 "nbformat_minor": 5
}
